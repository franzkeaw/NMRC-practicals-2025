{
 "cells": [
  {
   "cell_type": "markdown",
   "metadata": {},
   "source": [
    "# Introduction to the tutorials\n",
    "\n",
    "For the tutorials of this course, we will use Jupyter notebooks as the main platform. This notebook is meant to get you acquainted with the format.\n",
    "\n",
    "A Jupyter notebook is composed of cells, which are blocks containing either text or code. When a cell is highlighted in green (see color on the left), it means that you are in edit mode, and you can change stuff in the cell, whereas when it's highlighted in blue, it means that you are in command mode. Use `Enter` to go enable edit mode, and `esc` to enable command mode. It's also a good idea to take a look at the keyboard shortcuts (menu at the top -> Help -> Keyboard Shortcuts), knowing a few of these will make your life a lot easier and save you quite some time as you navigate through the notebooks. \n",
    "\n",
    "In the format we have adopted, you will see cells containing questions, such as:"
   ]
  },
  {
   "cell_type": "markdown",
   "metadata": {},
   "source": [
    "### Question 1\n",
    "<div style=\"height: 10px;\"></div>\n",
    "<div style=\"border: 2px solid black; padding: 10px; width: 100%; margin: 0 auto;\">\n",
    "What is the meaning of life?\n",
    "</div>"
   ]
  },
  {
   "cell_type": "markdown",
   "metadata": {},
   "source": [
    "### Answer 1\n",
    "<div style=\"height: 10px;\"></div>\n",
    "<div style=\"border: 2px solid black; padding: 10px; width: 100%; margin: 0 auto;\">\n",
    "[your answer]\n",
    "</div>"
   ]
  },
  {
   "cell_type": "markdown",
   "metadata": {},
   "source": [
    "As you see, the cell containing the question is followed by another cell, meant to contain your answer. You can double click on the answer cell, or press enter if you have it selected, and you will be able to edit the answer (you can ignore the lines with 'div' in the beginning, these are just there to place a box around the questions and the answers). Then press `Ctrl+Enter` or `Shift+Enter` to render it into nice looking text. "
   ]
  },
  {
   "cell_type": "markdown",
   "metadata": {},
   "source": [
    "Sometimes you will see chunks of code in the notebook: we will need them to run some simulations or generate some figures. Generally, we will never ask you to edit the code in any way, but you will have to run cells containing code nonetheless. Sometimes we will use a cell to define some functions, so you will not see any output, like the one below:"
   ]
  },
  {
   "cell_type": "code",
   "execution_count": 2,
   "metadata": {
    "collapsed": true
   },
   "outputs": [],
   "source": [
    "def really_cool_function():\n",
    "    print(\"Wow, I am so cool\")"
   ]
  },
  {
   "cell_type": "markdown",
   "metadata": {},
   "source": [
    "But later on we may need to call that function, so you need to have run the cell where we defined it, otherwise you will get an error."
   ]
  },
  {
   "cell_type": "code",
   "execution_count": 3,
   "metadata": {},
   "outputs": [
    {
     "name": "stdout",
     "output_type": "stream",
     "text": [
      "Wow, I am so cool\n"
     ]
    }
   ],
   "source": [
    "really_cool_function()"
   ]
  },
  {
   "cell_type": "markdown",
   "metadata": {},
   "source": [
    "Other times we will let you interact with the code using sliders or other 'widgets', like the one below."
   ]
  },
  {
   "cell_type": "code",
   "execution_count": 1,
   "metadata": {},
   "outputs": [
    {
     "data": {
      "application/vnd.jupyter.widget-view+json": {
       "model_id": "a19c16f7682c45f98493e1b7d13fb9bd"
      }
     },
     "metadata": {},
     "output_type": "display_data"
    }
   ],
   "source": [
    "import ipywidgets as widgets\n",
    "\n",
    "widgets.IntSlider(\n",
    "    value=7,\n",
    "    min=0,\n",
    "    max=20,\n",
    "    step=1,\n",
    "    description='Pick a number:',\n",
    ")"
   ]
  },
  {
   "cell_type": "markdown",
   "metadata": {},
   "source": [
    "Note: If you can't see the widget (= a slider which lets you choose a number) after executing the code, it might be that you need to enable the widgets. In order to do so, execute the code in the following cell:"
   ]
  },
  {
   "cell_type": "code",
   "execution_count": null,
   "metadata": {
    "collapsed": true
   },
   "outputs": [],
   "source": [
    "!jupyter nbextension enable --py --sys-prefix widgetsnbextension\n",
    "!jupyter nbextension enable --py widgetsnbextension"
   ]
  },
  {
   "cell_type": "markdown",
   "metadata": {},
   "source": [
    "Sometimes you will have to write down simple equations in your answers. For that, the jupyter notebook uses Latex syntax. For instance, if I write `\\sigma` surrounded by two dollar signs, this will render into a nice symbol $\\sigma$. On a new line, you can write a slash followed by `begin{equation}` to write your equation on its own line, as follows:\n",
    "\n",
    "\\begin{equation}\n",
    "E = mc^2\n",
    "\\end{equation}\n",
    "\n",
    "Remember that you always have to add a slash followed by `end{equation}` at the end. If you have never used Latex before, you can use this handy [equation editor](https://www.codecogs.com/latex/eqneditor.php) which will help you get started in typing mathematic formulas in Latex. If you press `enter` on this cell you can see how I typed the equation. Here's a more complicated one:\n",
    "\n",
    "\\begin{equation}\n",
    "\\frac{\\partial f(x)}{\\partial x} = \\frac{\\gamma}{\\beta + e^{-x}} \n",
    "\\end{equation}"
   ]
  },
  {
   "cell_type": "markdown",
   "metadata": {},
   "source": [
    "Later on in the course, you'll play around with different neural networks, such as the historical perceptron. Have a look at how a perceptron learns the discrimination boundary between two sets of input data. Don't worry if this doesn't make too much sense yet, this is just to give you a glimpse of what's ahead, and to allow us to check that everything runs smoothly in your environment.   "
   ]
  },
  {
   "cell_type": "code",
   "execution_count": 4,
   "metadata": {},
   "outputs": [
    {
     "data": {
      "application/vnd.jupyter.widget-view+json": {
       "model_id": "b32381a9bd1a454980f331c1eb4adde0"
      }
     },
     "metadata": {},
     "output_type": "display_data"
    },
    {
     "data": {
      "application/vnd.jupyter.widget-view+json": {
       "model_id": "31a881c9080b4028920cb08223b066cc"
      }
     },
     "metadata": {},
     "output_type": "display_data"
    }
   ],
   "source": [
    "from sklearn.datasets import make_blobs\n",
    "cluster_std = [[0.2, 0.2], [0.2, 0.2]]\n",
    "centers     = [[1, 2], [2, 1]]\n",
    "X, y = make_blobs(n_samples=50, n_features=2, cluster_std=cluster_std,\n",
    "                  centers=centers,shuffle=True)\n",
    "from utils_assignment_3 import Neuron, mlp_simulation\n",
    "sim = mlp_simulation(X, y)\n",
    "sim.start()"
   ]
  },
  {
   "cell_type": "markdown",
   "metadata": {},
   "source": [
    "Another network we will look at is the Hopfield network: run the cell below, click on `Initialize and train` and then on `Update network`, and you'll see how a Hopfield network is able to recollect a previously stored memory (in this case, the letter A). Again, this is just to check that everything works well. "
   ]
  },
  {
   "cell_type": "code",
   "execution_count": 1,
   "metadata": {},
   "outputs": [
    {
     "data": {
      "application/vnd.jupyter.widget-view+json": {
       "model_id": "e32981ee51534e0d8b3a79112e1e754e"
      }
     },
     "metadata": {},
     "output_type": "display_data"
    },
    {
     "data": {
      "application/vnd.jupyter.widget-view+json": {
       "model_id": "671b502d26074e498ffc1b1972d8285e"
      }
     },
     "metadata": {},
     "output_type": "display_data"
    },
    {
     "data": {
      "application/vnd.jupyter.widget-view+json": {
       "model_id": "ce0c80cc90c640128e6a5b0d7384b36a"
      }
     },
     "metadata": {},
     "output_type": "display_data"
    }
   ],
   "source": [
    "import numpy as np\n",
    "from utils_assignment_6 import simulation_0, letter_A\n",
    "train_data  = letter_A.reshape(1, 81)\n",
    "input_data  = -np.ones(81)\n",
    "sim = simulation_0(train_data, input_data)\n",
    "sim.start_simulation()"
   ]
  }
 ],
 "metadata": {
  "kernelspec": {
   "display_name": "Python 3",
   "language": "python",
   "name": "python3"
  },
  "language_info": {
   "codemirror_mode": {
    "name": "ipython",
    "version": 3
   },
   "file_extension": ".py",
   "mimetype": "text/x-python",
   "name": "python",
   "nbconvert_exporter": "python",
   "pygments_lexer": "ipython3",
   "version": "3.6.2"
  }
 },
 "nbformat": 4,
 "nbformat_minor": 2
}
