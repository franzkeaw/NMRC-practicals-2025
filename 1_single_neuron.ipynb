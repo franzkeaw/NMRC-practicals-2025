{
 "cells": [
  {
   "cell_type": "markdown",
   "metadata": {
    "collapsed": true
   },
   "source": [
    "# Modeling a single neuron\n",
    "\n",
    "In this first tutorial, we are going to explore a very simple computational model for the neuron. In spite of its simplicity, this model is widely used in artificial neural networks. In particular, we are going to explore the characteristics of different activation functions. "
   ]
  },
  {
   "cell_type": "markdown",
   "metadata": {},
   "source": [
    "### Question 1\n",
    "<div style=\"height: 10px;\"></div>\n",
    "<div style=\"border: 2px solid black; padding: 10px; width: 100%; margin: 0 auto;\">\n",
    "In the lecture, you saw the following equation:\n",
    "\n",
    "\\begin{equation}\n",
    "a_i = f \\left( \\sum_{j=1}^N w_{ij}a_j-b_i \\right)\n",
    "\\end{equation}\n",
    "\n",
    "Which aspects of the biological neuron are being modeled by $a_j$, $w_{ij}$, $b_i$, $f$, and $a_i$? Write your answer in the cell below.\n",
    "</div>"
   ]
  },
  {
   "cell_type": "markdown",
   "metadata": {},
   "source": [
    "### Answer 1\n",
    "<div style=\"height: 10px;\"></div>\n",
    "<div style=\"border: 2px solid black; padding: 10px; width: 100%; margin: 0 auto;\">\n",
    "$w_{ij}$:  <br>\n",
    "$b_{i}$: <br>\n",
    "$f$:  <br>\n",
    "$a_i$: <br>\n",
    "</div>"
   ]
  },
  {
   "cell_type": "markdown",
   "metadata": {},
   "source": [
    "### Question 2\n",
    "<div style=\"height: 10px;\"></div>\n",
    "<div style=\"border: 2px solid black; padding: 10px; width: 100%; margin: 0 auto;\">\n",
    "Which physiological aspects of real (biological) neurons are missing in this model?\n",
    "</div>"
   ]
  },
  {
   "cell_type": "markdown",
   "metadata": {},
   "source": [
    "### Answer 2\n",
    "<div style=\"height: 10px;\"></div>\n",
    "<div style=\"border: 2px solid black; padding: 10px; width: 100%; margin: 0 auto;\">\n",
    "[your answer]\n",
    "</div>"
   ]
  },
  {
   "cell_type": "markdown",
   "metadata": {},
   "source": [
    "We consider a neuron, which receives input from a single presynaptic neuron. We will now drop the subscripts and call the output of the neuron of interest $a$, the output of the presynaptic neuron $p$, and the bias $b$.\n",
    "\n",
    "We are interested in understanding how the output of our neuron behaves as a function of the input. We begin by writing up a short function that, for a given weight $w$, input $p$, and bias $b$,  and for a given transfer function, will compute the output of our neuron and plot it. In the cell below is a chunk of Python code, where I import the function `plot_single_neuron_output`, which we will be using throughout the tutorial. Make sure you run the cell below before continuing, so that the function become available when we want to call it later on in the notebook. "
   ]
  },
  {
   "cell_type": "code",
   "execution_count": 1,
   "metadata": {
    "collapsed": true
   },
   "outputs": [],
   "source": [
    "from utils_assignment_1 import plot_single_neuron_output\n",
    "from ipywidgets import interact, fixed"
   ]
  },
  {
   "cell_type": "markdown",
   "metadata": {},
   "source": [
    "Let's call the function in an interactive way, so we can nicely visualize the effect of changing parameters. For now we consider two settings, namely $w=1$ and $w=-1$, and we keep $b$ fixed at $b=0.5$. We choose the hard-limit function (`hardlim`) to start with. Run the cell below: you will see two sliders, with which you can set $w$ to either 1 or $-1$ and vary $p$ between 0 and 1."
   ]
  },
  {
   "cell_type": "code",
   "execution_count": 2,
   "metadata": {},
   "outputs": [
    {
     "data": {
      "application/vnd.jupyter.widget-view+json": {
       "model_id": "20243b9b94154a25a3a33fc2d0455250"
      }
     },
     "metadata": {},
     "output_type": "display_data"
    }
   ],
   "source": [
    "interact(plot_single_neuron_output, w=(-1, 1, 2), p=(0.0, 1.0, 0.05), b=fixed(0.5), tf_name=fixed('hardlim'));"
   ]
  },
  {
   "cell_type": "markdown",
   "metadata": {},
   "source": [
    "### Question 3\n",
    "<div style=\"height: 10px;\"></div>\n",
    "<div style=\"border: 2px solid black; padding: 10px; width: 100%; margin: 0 auto;\">\n",
    "Describe how output $a$ (the horizontal red line) varies as a function of $p$ (where $p$ is between 0 and 1), for both cases $w=1$ and $w=-1$.\n",
    "</div>"
   ]
  },
  {
   "cell_type": "markdown",
   "metadata": {},
   "source": [
    "### Answer 3\n",
    "<div style=\"height: 10px;\"></div>\n",
    "<div style=\"border: 2px solid black; padding: 10px; width: 100%; margin: 0 auto;\">\n",
    "$w=1$: \n",
    "<br>\n",
    "$w=-1$:\n",
    "</div>"
   ]
  },
  {
   "cell_type": "markdown",
   "metadata": {},
   "source": [
    "Assume now that the input gets a larger dynamic range and can vary between -4 and 4. Run the cell below and use the slider to set $w$ vary the value of $p$ in this range."
   ]
  },
  {
   "cell_type": "code",
   "execution_count": 3,
   "metadata": {},
   "outputs": [
    {
     "data": {
      "application/vnd.jupyter.widget-view+json": {
       "model_id": "53f9e60c23224921946c523f2ee08482"
      }
     },
     "metadata": {},
     "output_type": "display_data"
    }
   ],
   "source": [
    "interact(plot_single_neuron_output, w=(-1, 1, 2), p=(-4.0, 4.0, 0.05), b=fixed(0.5), tf_name=fixed('hardlim'));"
   ]
  },
  {
   "cell_type": "markdown",
   "metadata": {},
   "source": [
    "### Question 4\n",
    "<div style=\"height: 10px;\"></div>\n",
    "<div style=\"border: 2px solid black; padding: 10px; width: 100%; margin: 0 auto;\">\n",
    "Describe again how the output $a$ varies as a function of $p$.\n",
    "</div>"
   ]
  },
  {
   "cell_type": "markdown",
   "metadata": {},
   "source": [
    "### Answer 4\n",
    "<div style=\"height: 10px;\"></div>\n",
    "<div style=\"border: 2px solid black; padding: 10px; width: 100%; margin: 0 auto;\">\n",
    "When $p$ is allowed to vary from -4 to 4:<br>\n",
    "$w=1$:\n",
    "<br>\n",
    "$w=-1$:\n",
    "</div>"
   ]
  },
  {
   "cell_type": "markdown",
   "metadata": {},
   "source": [
    "We now explore the effect of $b$ on the output. We further assume that we receive a binary signal as input ($p$ is either 0 or 1). Run the cell below, and use the slider to vary the value of $b$. Understand how that affects the transfer function. "
   ]
  },
  {
   "cell_type": "code",
   "execution_count": 4,
   "metadata": {},
   "outputs": [
    {
     "data": {
      "application/vnd.jupyter.widget-view+json": {
       "model_id": "45f7285075e44fe1b9fe2c63d945ab97"
      }
     },
     "metadata": {},
     "output_type": "display_data"
    }
   ],
   "source": [
    "interact(plot_single_neuron_output, w=(-1, 1, 2), p=(0, 1, 1), b=(-2, 2, 0.05), tf_name=fixed('hardlim'));"
   ]
  },
  {
   "cell_type": "markdown",
   "metadata": {},
   "source": [
    "### Question 5\n",
    "<div style=\"height: 10px;\"></div>\n",
    "<div style=\"border: 2px solid black; padding: 10px; width: 100%; margin: 0 auto;\">\n",
    "We again study both cases $w=1$ and $w=-1$. For what ranges of the bias $b$ will our neuron be able to discriminate a binary input (which takes on either 1 or 0) coming from the presynpatic cell?\n",
    "</div>"
   ]
  },
  {
   "cell_type": "markdown",
   "metadata": {},
   "source": [
    "### Answer 5\n",
    "<div style=\"height: 10px;\"></div>\n",
    "<div style=\"border: 2px solid black; padding: 10px; width: 100%; margin: 0 auto;\">\n",
    "$w=1$: \n",
    "<br>\n",
    "$w=-1$:\n",
    "</div>"
   ]
  },
  {
   "cell_type": "markdown",
   "metadata": {},
   "source": [
    "Transfer functions can have different ranges (codomain). You can take a look at this [Wikipedia entry](https://en.wikipedia.org/wiki/Activation_function) for a review of the topic and a list of popular functions. Importantly, while the output of the `hardlim` function is between 0 and 1, that need not be the case. Here we introduce two new functions.\n",
    "\\begin{align}\n",
    "\\text{Linear function:}\\quad & \\texttt{purelin(x)} & \\rightarrow & \\quad f(x)=x \\\\\n",
    "\\text{Hyperbolic tangent:} \\quad & \\texttt{tanh(x)} &\\rightarrow & \\quad f(x)=\\frac{e^{2x}-1}{e^{2x}+1}\n",
    "\\end{align}\n",
    "Note that the codomain of the linear function is $(-\\infty, \\infty)$, while for the hyperbolic tangent it is $(-1, 1)$. Now, run the cell below, use the drop down menu to select different transfer functions, and the slider to change the value of the bias. "
   ]
  },
  {
   "cell_type": "code",
   "execution_count": 5,
   "metadata": {},
   "outputs": [
    {
     "data": {
      "application/vnd.jupyter.widget-view+json": {
       "model_id": "40c95921118e4530bb24240756869f34"
      }
     },
     "metadata": {},
     "output_type": "display_data"
    }
   ],
   "source": [
    "interact(plot_single_neuron_output, w=(-1, 1, 2), p=(0, 1, 1), b=(-2, 2, 0.05), tf_name=['hardlim', 'hardlims', 'purelin', 'tanh', 'sigmoid']);"
   ]
  },
  {
   "cell_type": "markdown",
   "metadata": {},
   "source": [
    "### Question 6\n",
    "<div style=\"height: 10px;\"></div>\n",
    "<div style=\"border: 2px solid black; padding: 10px; width: 100%; margin: 0 auto;\">\n",
    "What is the common effect of changing the bias on the output of all the transfer functions?\n",
    "</div>"
   ]
  },
  {
   "cell_type": "markdown",
   "metadata": {},
   "source": [
    "### Answer 6\n",
    "<div style=\"height: 10px;\"></div>\n",
    "<div style=\"border: 2px solid black; padding: 10px; width: 100%; margin: 0 auto;\">\n",
    "[your answer]\n",
    "</div>"
   ]
  },
  {
   "cell_type": "markdown",
   "metadata": {},
   "source": [
    "### Question 7\n",
    "<div style=\"height: 10px;\"></div>\n",
    "<div style=\"border: 2px solid black; padding: 10px; width: 100%; margin: 0 auto;\">\n",
    "Which configuration of transfer function and parameters classifies values of the input $p$ most strictly into 'categories'? We refer to transfer functions that make such a strong distinction between two ranges of input values as _classifiers_. \n",
    "To answer this question, look through the different transfer functions from the drop down menu and play around with the sliders, and try to understand how the different transfer functions relate the input (on the x-axis) to the output (y-axis). Try to find the function (and parameters) which would be best suited to turn your input (x-axis) into two categories.\n",
    "</div>"
   ]
  },
  {
   "cell_type": "markdown",
   "metadata": {},
   "source": [
    "### Answer 7\n",
    "<div style=\"height: 10px;\"></div>\n",
    "<div style=\"border: 2px solid black; padding: 10px; width: 100%; margin: 0 auto;\">\n",
    "[your answer]\n",
    "</div>"
   ]
  },
  {
   "cell_type": "markdown",
   "metadata": {},
   "source": [
    "### Question 8\n",
    "<div style=\"height: 10px;\"></div>\n",
    "<div style=\"border: 2px solid black; padding: 10px; width: 100%; margin: 0 auto;\">\n",
    "Conversely, which configuration is the worst at grouping values of the input in separate categories? \n",
    "</div>"
   ]
  },
  {
   "cell_type": "markdown",
   "metadata": {},
   "source": [
    "### Answer 8\n",
    "<div style=\"height: 10px;\"></div>\n",
    "<div style=\"border: 2px solid black; padding: 10px; width: 100%; margin: 0 auto;\">\n",
    "[your answer]\n",
    "</div>"
   ]
  },
  {
   "cell_type": "markdown",
   "metadata": {},
   "source": [
    "### Question 9\n",
    "<div style=\"height: 10px;\"></div>\n",
    "<div style=\"border: 2px solid black; padding: 10px; width: 100%; margin: 0 auto;\">\n",
    "After identifying a transfer function which performs poorly in classification (i.e.: which performs poorly in 'transferring' input variables into separate output categories), what could be the advantage of such a function? Can you come up with a scenario where it would NOT be desirable to have categories as output (this can be an example related to a neuron, or any other application/case you can come up with)\n",
    "</div>"
   ]
  },
  {
   "cell_type": "markdown",
   "metadata": {},
   "source": [
    "### Answer 9\n",
    "<div style=\"height: 10px;\"></div>\n",
    "<div style=\"border: 2px solid black; padding: 10px; width: 100%; margin: 0 auto;\">\n",
    "[your answer]\n",
    "</div>"
   ]
  },
  {
   "cell_type": "markdown",
   "metadata": {},
   "source": [
    "### Question 10\n",
    "<div style=\"height: 10px;\"></div>\n",
    "<div style=\"border: 2px solid black; padding: 10px; width: 100%; margin: 0 auto;\">\n",
    "Which transfer function(s) is/are the most biological one(s)? Again, think about how the functions turn input into output, and think about which scenario appears to be most plausible/realistic in biology. Explain!\n",
    "</div>"
   ]
  },
  {
   "cell_type": "markdown",
   "metadata": {},
   "source": [
    "### Answer 10\n",
    "<div style=\"height: 10px;\"></div>\n",
    "<div style=\"border: 2px solid black; padding: 10px; width: 100%; margin: 0 auto;\">\n",
    "[your answer]\n",
    "</div>"
   ]
  },
  {
   "cell_type": "markdown",
   "metadata": {},
   "source": [
    "### Question 11\n",
    "<div style=\"height: 10px;\"></div>\n",
    "<div style=\"border: 2px solid black; padding: 10px; width: 100%; margin: 0 auto;\">\n",
    "Consider the transfer function that you gave as an answer in the previous question. Go back to the last plot, and set it up using $w=1$ and $b=0$. \n",
    "In which input range does the transfer function behave as a linear estimation function (meaning: it transfers the input to the output in a linear fashion), and in which range as a classifier (meaning: it transfers the input into categories) ?\n",
    "</div>"
   ]
  },
  {
   "cell_type": "markdown",
   "metadata": {},
   "source": [
    "### Answer 11\n",
    "<div style=\"height: 10px;\"></div>\n",
    "<div style=\"border: 2px solid black; padding: 10px; width: 100%; margin: 0 auto;\">\n",
    "Estimator range:\n",
    "<br>\n",
    "Classifier range:\n",
    "</div>"
   ]
  },
  {
   "cell_type": "markdown",
   "metadata": {},
   "source": [
    "### Question 12\n",
    "<div style=\"height: 10px;\"></div>\n",
    "<div style=\"border: 2px solid black; padding: 10px; width: 100%; margin: 0 auto;\">\n",
    "Which aspects of how neurons render the transfer from synaptic input to output can be modeled with a sigmoid function?\n",
    "</div>"
   ]
  },
  {
   "cell_type": "markdown",
   "metadata": {},
   "source": [
    "### Answer 12\n",
    "<div style=\"height: 10px;\"></div>\n",
    "<div style=\"border: 2px solid black; padding: 10px; width: 100%; margin: 0 auto;\">\n",
    "[your answer]\n",
    "</div>"
   ]
  },
  {
   "cell_type": "markdown",
   "metadata": {},
   "source": [
    "### Question 13\n",
    "<div style=\"height: 10px;\"></div>\n",
    "<div style=\"border: 2px solid black; padding: 10px; width: 100%; margin: 0 auto;\">\n",
    "Which physiological aspects of real neurons can be seen as the counterpart of the bias in computational neurons?\n",
    "</div>"
   ]
  },
  {
   "cell_type": "markdown",
   "metadata": {},
   "source": [
    "### Answer 13\n",
    "<div style=\"height: 10px;\"></div>\n",
    "<div style=\"border: 2px solid black; padding: 10px; width: 100%; margin: 0 auto;\">\n",
    "[your answer]\n",
    "</div>"
   ]
  }
 ],
 "metadata": {
  "kernelspec": {
   "display_name": "Python 3",
   "language": "python",
   "name": "python3"
  },
  "language_info": {
   "codemirror_mode": {
    "name": "ipython",
    "version": 3
   },
   "file_extension": ".py",
   "mimetype": "text/x-python",
   "name": "python",
   "nbconvert_exporter": "python",
   "pygments_lexer": "ipython3",
   "version": "3.6.2"
  }
 },
 "nbformat": 4,
 "nbformat_minor": 1
}
